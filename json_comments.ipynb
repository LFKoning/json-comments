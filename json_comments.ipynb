{
 "cells": [
  {
   "cell_type": "markdown",
   "metadata": {},
   "source": [
    "## Commented JSON"
   ]
  },
  {
   "cell_type": "markdown",
   "metadata": {},
   "source": [
    "#### Goal\n",
    "\n",
    "This Notebook demonstrates a few simple hacks to deal with comments in JSON strings or files. Note that the code is far from \"production ready\" and is only meant as a proof-of-concept."
   ]
  },
  {
   "cell_type": "code",
   "execution_count": 1,
   "metadata": {},
   "outputs": [],
   "source": [
    "import re\n",
    "import json\n",
    "\n",
    "\n",
    "class cJSONStr(str):\n",
    "    \"\"\"Class for processing commented JSON strings.\"\"\"\n",
    "\n",
    "    def __new__(cls, cjson_str):\n",
    "        # self.string = self._clean(cjson_str)\n",
    "        return str.__new__(str, cls._clean(cjson_str))\n",
    "    \n",
    "    @staticmethod\n",
    "    def _clean(cjson_str):\n",
    "        \"\"\"Cleans comments from a JSON string.\"\"\"\n",
    "        parts = re.split(\"(\\\".*\\\"|'.*'|#[^\\r\\n]*|//[^\\r\\n]*)\", cjson_str, re.MULTILINE)\n",
    "        return \"\".join([\n",
    "            p.strip(\" \") for p in parts if not (p.startswith(\"//\") or p.startswith(\"#\"))\n",
    "        ])\n",
    "\n",
    "    \n",
    "class cJSONFile:\n",
    "    \"\"\"Class for processing commented JSON files.\"\"\"\n",
    "    \n",
    "    def __init__(self, file_path, mode, encoding=\"utf-8\"):\n",
    "        binary_modes = \"rb\", \"rb+\", \"wb\", \"wb+\", \"ab\", \"xb\", \"xb+\"\n",
    "        if mode in binary_modes:\n",
    "            raise ValueError(f\"Binary mode {mode!r} is not supported, use text mode.\")\n",
    "        \n",
    "        self._file_path = file_path\n",
    "        self._mode = mode\n",
    "        self._encoding = encoding\n",
    "        self._file = self._open()\n",
    "    \n",
    "    def __getattr__(self, attribute):\n",
    "        \"\"\"Aliases file properties\"\"\"\n",
    "        if hasattr(self._file, attribute):\n",
    "            return getattr(self._file, attribute)\n",
    "        else:\n",
    "            raise AttributeError\n",
    "    \n",
    "    def __enter__(self):\n",
    "        \"\"\"Called on entering context.\"\"\"\n",
    "        if self._file is None:\n",
    "            self._file = self._open()\n",
    "        return self\n",
    "    \n",
    "    def __exit__(self, type, value, traceback):\n",
    "        \"\"\"Called on exiting context.\"\"\"\n",
    "        self._close()\n",
    "    \n",
    "    def __iter__(self):\n",
    "        \"\"\"Called when starting iteration.\"\"\"\n",
    "        if not self._file:\n",
    "            self._file = self._open()\n",
    "        return self\n",
    "    \n",
    "    def __next__(self):\n",
    "        \"\"\"Returns next line, skipping comments.\"\"\"\n",
    "        while True:\n",
    "            try:\n",
    "                line = next(self._file)\n",
    "            except StopIteration:\n",
    "                self._close()\n",
    "                raise\n",
    "            if not self._is_comment(line):\n",
    "                return self._clean(line)\n",
    "\n",
    "    def _open(self):\n",
    "        \"\"\"Opens the file.\"\"\"\n",
    "        return open(self._file_path, self._mode, encoding=self._encoding)\n",
    "\n",
    "    def _close(self):\n",
    "        \"\"\"Closes the file.\"\"\"\n",
    "        self._file.close()\n",
    "        self._file = None\n",
    "        \n",
    "    @staticmethod\n",
    "    def _is_comment(line):\n",
    "        \"\"\"Checks whether a line contains a comment or not.\"\"\"\n",
    "        line = line.strip()\n",
    "        return line.startswith(\"//\") or line.startswith(\"#\")\n",
    "\n",
    "    def _clean(self, line):\n",
    "        \"\"\"Strips trailing comments froma line.\"\"\"\n",
    "        if \"#\" in line or \"//\" in line:\n",
    "            parts = re.split(\"(\\\".*\\\"|'.*'|#.*|//.*)\", line)\n",
    "            return \"\".join([\n",
    "                p.strip(\" \") for p in parts if not self._is_comment(p)\n",
    "            ])\n",
    "        return line\n",
    "    \n",
    "    def read(self):\n",
    "        \"\"\"Returns file contents excluding comments.\"\"\"\n",
    "        return \"\".join(self.readlines())\n",
    "        \n",
    "    def readline(self):\n",
    "        \"\"\"Returns next line, skipping comments.\"\"\"\n",
    "        while True:\n",
    "            try:\n",
    "                line = next(self._file)\n",
    "            except StopIteration:\n",
    "                return ''\n",
    "            if not self._is_comment(line):\n",
    "                return self._clean(line)\n",
    "        \n",
    "    def readlines(self):\n",
    "        \"\"\"Reads all lines that are not comments.\"\"\"\n",
    "        return [\n",
    "            self._clean(line) for line in self._file\n",
    "            if not self._is_comment(line)\n",
    "        ]\n",
    "        "
   ]
  },
  {
   "cell_type": "markdown",
   "metadata": {},
   "source": [
    "## Raw file contents\n",
    "\n",
    "Note: comments using either `//` or `#`. Multi-line comments (`/* ... */`) are not supported!"
   ]
  },
  {
   "cell_type": "code",
   "execution_count": 2,
   "metadata": {},
   "outputs": [
    {
     "name": "stdout",
     "output_type": "stream",
     "text": [
      "{\n",
      "\t// Integer\n",
      "\t\"integer\": 1,\n",
      "\t\"float\": 1.0, # Float\n",
      "\t\"text\": \"// text //\",  // Trailing comment\n",
      "\t\"list\": [1, 2, 3]\n",
      "}\n"
     ]
    }
   ],
   "source": [
    "with open(\"commented.json\", \"r\") as jc:\n",
    "    raw_cjson = jc.read()\n",
    "\n",
    "print(raw_cjson)"
   ]
  },
  {
   "cell_type": "code",
   "execution_count": 3,
   "metadata": {},
   "outputs": [
    {
     "ename": "JSONDecodeError",
     "evalue": "Expecting property name enclosed in double quotes: line 2 column 2 (char 3)",
     "output_type": "error",
     "traceback": [
      "\u001b[1;31m---------------------------------------------------------------------------\u001b[0m",
      "\u001b[1;31mJSONDecodeError\u001b[0m                           Traceback (most recent call last)",
      "\u001b[1;32m<ipython-input-3-ae95086ed0c6>\u001b[0m in \u001b[0;36m<module>\u001b[1;34m\u001b[0m\n\u001b[0;32m      1\u001b[0m \u001b[1;31m# Note that the raw file contents are not valid JSON\u001b[0m\u001b[1;33m\u001b[0m\u001b[1;33m\u001b[0m\u001b[1;33m\u001b[0m\u001b[0m\n\u001b[1;32m----> 2\u001b[1;33m \u001b[0mjson\u001b[0m\u001b[1;33m.\u001b[0m\u001b[0mloads\u001b[0m\u001b[1;33m(\u001b[0m\u001b[0mraw_cjson\u001b[0m\u001b[1;33m)\u001b[0m\u001b[1;33m\u001b[0m\u001b[1;33m\u001b[0m\u001b[0m\n\u001b[0m",
      "\u001b[1;32m~\\anaconda3\\envs\\jupyter\\lib\\json\\__init__.py\u001b[0m in \u001b[0;36mloads\u001b[1;34m(s, encoding, cls, object_hook, parse_float, parse_int, parse_constant, object_pairs_hook, **kw)\u001b[0m\n\u001b[0;32m    346\u001b[0m             \u001b[0mparse_int\u001b[0m \u001b[1;32mis\u001b[0m \u001b[1;32mNone\u001b[0m \u001b[1;32mand\u001b[0m \u001b[0mparse_float\u001b[0m \u001b[1;32mis\u001b[0m \u001b[1;32mNone\u001b[0m \u001b[1;32mand\u001b[0m\u001b[1;33m\u001b[0m\u001b[1;33m\u001b[0m\u001b[0m\n\u001b[0;32m    347\u001b[0m             parse_constant is None and object_pairs_hook is None and not kw):\n\u001b[1;32m--> 348\u001b[1;33m         \u001b[1;32mreturn\u001b[0m \u001b[0m_default_decoder\u001b[0m\u001b[1;33m.\u001b[0m\u001b[0mdecode\u001b[0m\u001b[1;33m(\u001b[0m\u001b[0ms\u001b[0m\u001b[1;33m)\u001b[0m\u001b[1;33m\u001b[0m\u001b[1;33m\u001b[0m\u001b[0m\n\u001b[0m\u001b[0;32m    349\u001b[0m     \u001b[1;32mif\u001b[0m \u001b[0mcls\u001b[0m \u001b[1;32mis\u001b[0m \u001b[1;32mNone\u001b[0m\u001b[1;33m:\u001b[0m\u001b[1;33m\u001b[0m\u001b[1;33m\u001b[0m\u001b[0m\n\u001b[0;32m    350\u001b[0m         \u001b[0mcls\u001b[0m \u001b[1;33m=\u001b[0m \u001b[0mJSONDecoder\u001b[0m\u001b[1;33m\u001b[0m\u001b[1;33m\u001b[0m\u001b[0m\n",
      "\u001b[1;32m~\\anaconda3\\envs\\jupyter\\lib\\json\\decoder.py\u001b[0m in \u001b[0;36mdecode\u001b[1;34m(self, s, _w)\u001b[0m\n\u001b[0;32m    335\u001b[0m \u001b[1;33m\u001b[0m\u001b[0m\n\u001b[0;32m    336\u001b[0m         \"\"\"\n\u001b[1;32m--> 337\u001b[1;33m         \u001b[0mobj\u001b[0m\u001b[1;33m,\u001b[0m \u001b[0mend\u001b[0m \u001b[1;33m=\u001b[0m \u001b[0mself\u001b[0m\u001b[1;33m.\u001b[0m\u001b[0mraw_decode\u001b[0m\u001b[1;33m(\u001b[0m\u001b[0ms\u001b[0m\u001b[1;33m,\u001b[0m \u001b[0midx\u001b[0m\u001b[1;33m=\u001b[0m\u001b[0m_w\u001b[0m\u001b[1;33m(\u001b[0m\u001b[0ms\u001b[0m\u001b[1;33m,\u001b[0m \u001b[1;36m0\u001b[0m\u001b[1;33m)\u001b[0m\u001b[1;33m.\u001b[0m\u001b[0mend\u001b[0m\u001b[1;33m(\u001b[0m\u001b[1;33m)\u001b[0m\u001b[1;33m)\u001b[0m\u001b[1;33m\u001b[0m\u001b[1;33m\u001b[0m\u001b[0m\n\u001b[0m\u001b[0;32m    338\u001b[0m         \u001b[0mend\u001b[0m \u001b[1;33m=\u001b[0m \u001b[0m_w\u001b[0m\u001b[1;33m(\u001b[0m\u001b[0ms\u001b[0m\u001b[1;33m,\u001b[0m \u001b[0mend\u001b[0m\u001b[1;33m)\u001b[0m\u001b[1;33m.\u001b[0m\u001b[0mend\u001b[0m\u001b[1;33m(\u001b[0m\u001b[1;33m)\u001b[0m\u001b[1;33m\u001b[0m\u001b[1;33m\u001b[0m\u001b[0m\n\u001b[0;32m    339\u001b[0m         \u001b[1;32mif\u001b[0m \u001b[0mend\u001b[0m \u001b[1;33m!=\u001b[0m \u001b[0mlen\u001b[0m\u001b[1;33m(\u001b[0m\u001b[0ms\u001b[0m\u001b[1;33m)\u001b[0m\u001b[1;33m:\u001b[0m\u001b[1;33m\u001b[0m\u001b[1;33m\u001b[0m\u001b[0m\n",
      "\u001b[1;32m~\\anaconda3\\envs\\jupyter\\lib\\json\\decoder.py\u001b[0m in \u001b[0;36mraw_decode\u001b[1;34m(self, s, idx)\u001b[0m\n\u001b[0;32m    351\u001b[0m         \"\"\"\n\u001b[0;32m    352\u001b[0m         \u001b[1;32mtry\u001b[0m\u001b[1;33m:\u001b[0m\u001b[1;33m\u001b[0m\u001b[1;33m\u001b[0m\u001b[0m\n\u001b[1;32m--> 353\u001b[1;33m             \u001b[0mobj\u001b[0m\u001b[1;33m,\u001b[0m \u001b[0mend\u001b[0m \u001b[1;33m=\u001b[0m \u001b[0mself\u001b[0m\u001b[1;33m.\u001b[0m\u001b[0mscan_once\u001b[0m\u001b[1;33m(\u001b[0m\u001b[0ms\u001b[0m\u001b[1;33m,\u001b[0m \u001b[0midx\u001b[0m\u001b[1;33m)\u001b[0m\u001b[1;33m\u001b[0m\u001b[1;33m\u001b[0m\u001b[0m\n\u001b[0m\u001b[0;32m    354\u001b[0m         \u001b[1;32mexcept\u001b[0m \u001b[0mStopIteration\u001b[0m \u001b[1;32mas\u001b[0m \u001b[0merr\u001b[0m\u001b[1;33m:\u001b[0m\u001b[1;33m\u001b[0m\u001b[1;33m\u001b[0m\u001b[0m\n\u001b[0;32m    355\u001b[0m             \u001b[1;32mraise\u001b[0m \u001b[0mJSONDecodeError\u001b[0m\u001b[1;33m(\u001b[0m\u001b[1;34m\"Expecting value\"\u001b[0m\u001b[1;33m,\u001b[0m \u001b[0ms\u001b[0m\u001b[1;33m,\u001b[0m \u001b[0merr\u001b[0m\u001b[1;33m.\u001b[0m\u001b[0mvalue\u001b[0m\u001b[1;33m)\u001b[0m \u001b[1;32mfrom\u001b[0m \u001b[1;32mNone\u001b[0m\u001b[1;33m\u001b[0m\u001b[1;33m\u001b[0m\u001b[0m\n",
      "\u001b[1;31mJSONDecodeError\u001b[0m: Expecting property name enclosed in double quotes: line 2 column 2 (char 3)"
     ]
    }
   ],
   "source": [
    "# Note that the raw file contents are not valid JSON\n",
    "json.loads(raw_cjson)"
   ]
  },
  {
   "cell_type": "markdown",
   "metadata": {},
   "source": [
    "## Commented JSON strings"
   ]
  },
  {
   "cell_type": "code",
   "execution_count": 4,
   "metadata": {},
   "outputs": [],
   "source": [
    "# Convert to cJSONStr\n",
    "cjson_str = cJSONStr(raw_cjson)"
   ]
  },
  {
   "cell_type": "code",
   "execution_count": 5,
   "metadata": {},
   "outputs": [
    {
     "data": {
      "text/plain": [
       "'{\\n\\t\\n\\t\"integer\": 1,\\n\\t\"float\": 1.0,\\n\\t\"text\": \"// text //\",\\n\\t\"list\": [1, 2, 3]\\n}'"
      ]
     },
     "execution_count": 5,
     "metadata": {},
     "output_type": "execute_result"
    }
   ],
   "source": [
    "# Note that comments were removed\n",
    "cjson_str"
   ]
  },
  {
   "cell_type": "code",
   "execution_count": 6,
   "metadata": {},
   "outputs": [
    {
     "data": {
      "text/plain": [
       "{'integer': 1, 'float': 1.0, 'text': '// text //', 'list': [1, 2, 3]}"
      ]
     },
     "execution_count": 6,
     "metadata": {},
     "output_type": "execute_result"
    }
   ],
   "source": [
    "# And now it parses as valid JSON\n",
    "json.loads(cjson_str)"
   ]
  },
  {
   "cell_type": "code",
   "execution_count": 7,
   "metadata": {},
   "outputs": [
    {
     "data": {
      "text/plain": [
       "77"
      ]
     },
     "execution_count": 7,
     "metadata": {},
     "output_type": "execute_result"
    }
   ],
   "source": [
    "# cJSONStr retains normal string properties\n",
    "len(cjson_str)"
   ]
  },
  {
   "cell_type": "code",
   "execution_count": 8,
   "metadata": {},
   "outputs": [
    {
     "data": {
      "text/plain": [
       "'integer'"
      ]
     },
     "execution_count": 8,
     "metadata": {},
     "output_type": "execute_result"
    }
   ],
   "source": [
    "# And supports slicing etc.\n",
    "cjson_str[6:13]"
   ]
  },
  {
   "cell_type": "code",
   "execution_count": null,
   "metadata": {},
   "outputs": [],
   "source": []
  },
  {
   "cell_type": "markdown",
   "metadata": {},
   "source": [
    "## Commented JSON files"
   ]
  },
  {
   "cell_type": "code",
   "execution_count": 9,
   "metadata": {},
   "outputs": [
    {
     "name": "stdout",
     "output_type": "stream",
     "text": [
      "{\n",
      "\t\"integer\": 1,\n",
      "\t\"float\": 1.0,\n",
      "\t\"text\": \"// text //\",\n",
      "\t\"list\": [1, 2, 3]\n",
      "}\n"
     ]
    }
   ],
   "source": [
    "# Read a file as commented JSON\n",
    "with cJSONFile(\"commented.json\", \"r\") as jf:\n",
    "    cjson = jf.read()\n",
    "\n",
    "print(cjson)"
   ]
  },
  {
   "cell_type": "code",
   "execution_count": 10,
   "metadata": {},
   "outputs": [
    {
     "data": {
      "text/plain": [
       "{'integer': 1, 'float': 1.0, 'text': '// text //', 'list': [1, 2, 3]}"
      ]
     },
     "execution_count": 10,
     "metadata": {},
     "output_type": "execute_result"
    }
   ],
   "source": [
    "# Parses with standard JSON parser\n",
    "json.loads(cjson)"
   ]
  },
  {
   "cell_type": "code",
   "execution_count": 11,
   "metadata": {},
   "outputs": [
    {
     "name": "stdout",
     "output_type": "stream",
     "text": [
      "{'integer': 1, 'float': 1.0, 'text': '// text //', 'list': [1, 2, 3]}\n"
     ]
    }
   ],
   "source": [
    "# Or pass it directly to json.load\n",
    "with cJSONFile(\"commented.json\", \"r\") as jf:\n",
    "    print(json.load(jf))"
   ]
  },
  {
   "cell_type": "code",
   "execution_count": 12,
   "metadata": {},
   "outputs": [
    {
     "data": {
      "text/plain": [
       "'commented.json'"
      ]
     },
     "execution_count": 12,
     "metadata": {},
     "output_type": "execute_result"
    }
   ],
   "source": [
    "# Supports typical file functionality\n",
    "jf = cJSONFile(\"commented.json\", \"r\")\n",
    "jf.name"
   ]
  },
  {
   "cell_type": "code",
   "execution_count": 13,
   "metadata": {},
   "outputs": [
    {
     "data": {
      "text/plain": [
       "'r'"
      ]
     },
     "execution_count": 13,
     "metadata": {},
     "output_type": "execute_result"
    }
   ],
   "source": [
    "jf.mode"
   ]
  },
  {
   "cell_type": "code",
   "execution_count": 14,
   "metadata": {},
   "outputs": [
    {
     "data": {
      "text/plain": [
       "False"
      ]
     },
     "execution_count": 14,
     "metadata": {},
     "output_type": "execute_result"
    }
   ],
   "source": [
    "jf.closed"
   ]
  },
  {
   "cell_type": "code",
   "execution_count": 15,
   "metadata": {},
   "outputs": [
    {
     "data": {
      "text/plain": [
       "'{\\n'"
      ]
     },
     "execution_count": 15,
     "metadata": {},
     "output_type": "execute_result"
    }
   ],
   "source": [
    "jf.readline()"
   ]
  },
  {
   "cell_type": "code",
   "execution_count": 16,
   "metadata": {},
   "outputs": [
    {
     "data": {
      "text/plain": [
       "'\\t\"integer\": 1,\\n'"
      ]
     },
     "execution_count": 16,
     "metadata": {},
     "output_type": "execute_result"
    }
   ],
   "source": [
    "next(jf)"
   ]
  },
  {
   "cell_type": "code",
   "execution_count": 17,
   "metadata": {},
   "outputs": [
    {
     "data": {
      "text/plain": [
       "['{\\n',\n",
       " '\\t\"integer\": 1,\\n',\n",
       " '\\t\"float\": 1.0,\\n',\n",
       " '\\t\"text\": \"// text //\",\\n',\n",
       " '\\t\"list\": [1, 2, 3]\\n',\n",
       " '}']"
      ]
     },
     "execution_count": 17,
     "metadata": {},
     "output_type": "execute_result"
    }
   ],
   "source": [
    "# Line iteration\n",
    "jf = cJSONFile(\"commented.json\", \"r\")\n",
    "[line for line in jf]"
   ]
  },
  {
   "cell_type": "code",
   "execution_count": null,
   "metadata": {},
   "outputs": [],
   "source": []
  }
 ],
 "metadata": {
  "kernelspec": {
   "display_name": "Python 3",
   "language": "python",
   "name": "python3"
  },
  "language_info": {
   "codemirror_mode": {
    "name": "ipython",
    "version": 3
   },
   "file_extension": ".py",
   "mimetype": "text/x-python",
   "name": "python",
   "nbconvert_exporter": "python",
   "pygments_lexer": "ipython3",
   "version": "3.7.7"
  }
 },
 "nbformat": 4,
 "nbformat_minor": 4
}
